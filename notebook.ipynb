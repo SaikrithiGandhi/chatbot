!git clone https://github.com/SaikrithiGandhi/chatbot.git


import os
os.chdir("flask-gpu-app")
     

!pip install -r requirements.txt
     

!ngrok authtoken YOUR-AUTHTOKEN-HERE
     

!python main.py
